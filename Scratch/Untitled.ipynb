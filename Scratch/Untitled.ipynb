{
 "cells": [
  {
   "cell_type": "code",
   "execution_count": 2,
   "metadata": {},
   "outputs": [],
   "source": [
    "import pandas as pd"
   ]
  },
  {
   "cell_type": "code",
   "execution_count": 3,
   "metadata": {},
   "outputs": [],
   "source": [
    "#Open data file and save it as housing_df. Column names found in \"./data/column_names.md\"\n",
    "housing_df = pd.read_csv(\"./data/kc_house_data.csv\")"
   ]
  },
  {
   "cell_type": "code",
   "execution_count": 4,
   "metadata": {},
   "outputs": [
    {
     "data": {
      "text/plain": [
       "(<bound method Series.min of 0        10/13/2014\n",
       " 1         12/9/2014\n",
       " 2         2/25/2015\n",
       " 3         12/9/2014\n",
       " 4         2/18/2015\n",
       "             ...    \n",
       " 21592     5/21/2014\n",
       " 21593     2/23/2015\n",
       " 21594     6/23/2014\n",
       " 21595     1/16/2015\n",
       " 21596    10/15/2014\n",
       " Name: date, Length: 21597, dtype: object>,\n",
       " <bound method Series.max of 0        10/13/2014\n",
       " 1         12/9/2014\n",
       " 2         2/25/2015\n",
       " 3         12/9/2014\n",
       " 4         2/18/2015\n",
       "             ...    \n",
       " 21592     5/21/2014\n",
       " 21593     2/23/2015\n",
       " 21594     6/23/2014\n",
       " 21595     1/16/2015\n",
       " 21596    10/15/2014\n",
       " Name: date, Length: 21597, dtype: object>)"
      ]
     },
     "execution_count": 4,
     "metadata": {},
     "output_type": "execute_result"
    }
   ],
   "source": [
    "housing_df[\"date\"].min, housing_df[\"date\"].max"
   ]
  },
  {
   "cell_type": "code",
   "execution_count": null,
   "metadata": {},
   "outputs": [],
   "source": []
  }
 ],
 "metadata": {
  "kernelspec": {
   "display_name": "Python (learn-env)",
   "language": "python",
   "name": "learn-env"
  },
  "language_info": {
   "codemirror_mode": {
    "name": "ipython",
    "version": 3
   },
   "file_extension": ".py",
   "mimetype": "text/x-python",
   "name": "python",
   "nbconvert_exporter": "python",
   "pygments_lexer": "ipython3",
   "version": "3.8.5"
  }
 },
 "nbformat": 4,
 "nbformat_minor": 4
}
